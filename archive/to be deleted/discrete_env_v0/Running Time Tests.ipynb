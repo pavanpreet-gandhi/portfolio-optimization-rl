{
 "cells": [
  {
   "cell_type": "code",
   "execution_count": 1,
   "metadata": {},
   "outputs": [
    {
     "name": "stdout",
     "output_type": "stream",
     "text": [
      "Current working directory: c:\\Users\\pavan\\Desktop\\senior_project\n"
     ]
    }
   ],
   "source": [
    "# make the current working directory the project root directory\n",
    "import os\n",
    "PROJECT_ROOT_DIRECTORY = 'senior_project'\n",
    "while os.path.basename(os.getcwd()) != PROJECT_ROOT_DIRECTORY:\n",
    "    os.chdir(os.pardir)\n",
    "print('Current working directory:', os.getcwd())"
   ]
  },
  {
   "cell_type": "code",
   "execution_count": 2,
   "metadata": {},
   "outputs": [
    {
     "name": "stderr",
     "output_type": "stream",
     "text": [
      "c:\\Users\\pavan\\anaconda3\\envs\\rl_env\\lib\\site-packages\\tqdm\\auto.py:22: TqdmWarning: IProgress not found. Please update jupyter and ipywidgets. See https://ipywidgets.readthedocs.io/en/stable/user_install.html\n",
      "  from .autonotebook import tqdm as notebook_tqdm\n"
     ]
    }
   ],
   "source": [
    "# imports\n",
    "import time\n",
    "from tqdm import tqdm\n",
    "\n",
    "import numpy as np\n",
    "import pandas as pd\n",
    "import matplotlib.pyplot as plt\n",
    "\n",
    "from stable_baselines3.common.env_checker import check_env\n",
    "\n",
    "from environments.discrete_env_v0 import DiscretePortfolioEnv\n",
    "from environments.discrete_env_faster import DiscretePortfolioEnvFaster\n",
    "from environments.discrete_env_v1 import DiscretePortfolioTrainEnv"
   ]
  },
  {
   "cell_type": "code",
   "execution_count": 3,
   "metadata": {},
   "outputs": [
    {
     "data": {
      "text/html": [
       "<div>\n",
       "<style scoped>\n",
       "    .dataframe tbody tr th:only-of-type {\n",
       "        vertical-align: middle;\n",
       "    }\n",
       "\n",
       "    .dataframe tbody tr th {\n",
       "        vertical-align: top;\n",
       "    }\n",
       "\n",
       "    .dataframe thead th {\n",
       "        text-align: right;\n",
       "    }\n",
       "</style>\n",
       "<table border=\"1\" class=\"dataframe\">\n",
       "  <thead>\n",
       "    <tr style=\"text-align: right;\">\n",
       "      <th></th>\n",
       "      <th>AAPL</th>\n",
       "      <th>GOOGL</th>\n",
       "      <th>MSFT</th>\n",
       "    </tr>\n",
       "    <tr>\n",
       "      <th>Date</th>\n",
       "      <th></th>\n",
       "      <th></th>\n",
       "      <th></th>\n",
       "    </tr>\n",
       "  </thead>\n",
       "  <tbody>\n",
       "    <tr>\n",
       "      <th>2022-01-04</th>\n",
       "      <td>-0.012692</td>\n",
       "      <td>-0.004083</td>\n",
       "      <td>-0.017147</td>\n",
       "    </tr>\n",
       "    <tr>\n",
       "      <th>2022-01-05</th>\n",
       "      <td>-0.026600</td>\n",
       "      <td>-0.045876</td>\n",
       "      <td>-0.038388</td>\n",
       "    </tr>\n",
       "    <tr>\n",
       "      <th>2022-01-06</th>\n",
       "      <td>-0.016693</td>\n",
       "      <td>-0.000200</td>\n",
       "      <td>-0.007902</td>\n",
       "    </tr>\n",
       "    <tr>\n",
       "      <th>2022-01-07</th>\n",
       "      <td>0.000988</td>\n",
       "      <td>-0.005303</td>\n",
       "      <td>0.000510</td>\n",
       "    </tr>\n",
       "    <tr>\n",
       "      <th>2022-01-10</th>\n",
       "      <td>0.000116</td>\n",
       "      <td>0.012061</td>\n",
       "      <td>0.000732</td>\n",
       "    </tr>\n",
       "  </tbody>\n",
       "</table>\n",
       "</div>"
      ],
      "text/plain": [
       "                AAPL     GOOGL      MSFT\n",
       "Date                                    \n",
       "2022-01-04 -0.012692 -0.004083 -0.017147\n",
       "2022-01-05 -0.026600 -0.045876 -0.038388\n",
       "2022-01-06 -0.016693 -0.000200 -0.007902\n",
       "2022-01-07  0.000988 -0.005303  0.000510\n",
       "2022-01-10  0.000116  0.012061  0.000732"
      ]
     },
     "metadata": {},
     "output_type": "display_data"
    },
    {
     "data": {
      "text/html": [
       "<div>\n",
       "<style scoped>\n",
       "    .dataframe tbody tr th:only-of-type {\n",
       "        vertical-align: middle;\n",
       "    }\n",
       "\n",
       "    .dataframe tbody tr th {\n",
       "        vertical-align: top;\n",
       "    }\n",
       "\n",
       "    .dataframe thead th {\n",
       "        text-align: right;\n",
       "    }\n",
       "</style>\n",
       "<table border=\"1\" class=\"dataframe\">\n",
       "  <thead>\n",
       "    <tr style=\"text-align: right;\">\n",
       "      <th></th>\n",
       "      <th>Date</th>\n",
       "      <th>AAPL</th>\n",
       "      <th>GOOGL</th>\n",
       "      <th>MSFT</th>\n",
       "    </tr>\n",
       "  </thead>\n",
       "  <tbody>\n",
       "    <tr>\n",
       "      <th>0</th>\n",
       "      <td>2022-01-04</td>\n",
       "      <td>-0.012692</td>\n",
       "      <td>-0.004083</td>\n",
       "      <td>-0.017147</td>\n",
       "    </tr>\n",
       "    <tr>\n",
       "      <th>1</th>\n",
       "      <td>2022-01-05</td>\n",
       "      <td>-0.026600</td>\n",
       "      <td>-0.045876</td>\n",
       "      <td>-0.038388</td>\n",
       "    </tr>\n",
       "    <tr>\n",
       "      <th>2</th>\n",
       "      <td>2022-01-06</td>\n",
       "      <td>-0.016693</td>\n",
       "      <td>-0.000200</td>\n",
       "      <td>-0.007902</td>\n",
       "    </tr>\n",
       "    <tr>\n",
       "      <th>3</th>\n",
       "      <td>2022-01-07</td>\n",
       "      <td>0.000988</td>\n",
       "      <td>-0.005303</td>\n",
       "      <td>0.000510</td>\n",
       "    </tr>\n",
       "    <tr>\n",
       "      <th>4</th>\n",
       "      <td>2022-01-10</td>\n",
       "      <td>0.000116</td>\n",
       "      <td>0.012061</td>\n",
       "      <td>0.000732</td>\n",
       "    </tr>\n",
       "  </tbody>\n",
       "</table>\n",
       "</div>"
      ],
      "text/plain": [
       "        Date      AAPL     GOOGL      MSFT\n",
       "0 2022-01-04 -0.012692 -0.004083 -0.017147\n",
       "1 2022-01-05 -0.026600 -0.045876 -0.038388\n",
       "2 2022-01-06 -0.016693 -0.000200 -0.007902\n",
       "3 2022-01-07  0.000988 -0.005303  0.000510\n",
       "4 2022-01-10  0.000116  0.012061  0.000732"
      ]
     },
     "metadata": {},
     "output_type": "display_data"
    }
   ],
   "source": [
    "returns_df = pd.read_csv('data/returns_toy_dataset.csv', index_col='Date', parse_dates=True)\n",
    "returns_df_with_numerical_index = returns_df.reset_index()\n",
    "display(returns_df.head())\n",
    "display(returns_df_with_numerical_index.head())"
   ]
  },
  {
   "cell_type": "code",
   "execution_count": 4,
   "metadata": {},
   "outputs": [],
   "source": [
    "# np.random.seed(0)\n",
    "\n",
    "# env = DiscretePortfolioEnv(returns_df_with_numerical_index, episode_length=90)\n",
    "\n",
    "# episodes = 100\n",
    "# running_times = []\n",
    "\n",
    "# for episode in tqdm(range(episodes)):\n",
    "    \n",
    "#     start_time = time.time()\n",
    "    \n",
    "#     obs = env.reset()\n",
    "#     done = False\n",
    "#     while not done:\n",
    "#         action = np.random.randint(env.action_space.n)\n",
    "#         obs, reward, done, info = env.step(action)\n",
    "    \n",
    "#     end_time = time.time()\n",
    "#     running_times.append(end_time - start_time)\n",
    "\n",
    "# plt.plot(range(1, episodes+1), running_times);\n",
    "# plt.xlabel('Episode Number');\n",
    "# plt.ylabel('Running Time (s)');\n",
    "# plt.title(f'Average: {np.mean(running_times)}')"
   ]
  },
  {
   "cell_type": "code",
   "execution_count": 5,
   "metadata": {},
   "outputs": [
    {
     "name": "stderr",
     "output_type": "stream",
     "text": [
      "100%|██████████| 100/100 [00:02<00:00, 34.29it/s]\n"
     ]
    },
    {
     "data": {
      "text/plain": [
       "Text(0.5, 1.0, 'Average: 0.028939130306243895')"
      ]
     },
     "execution_count": 5,
     "metadata": {},
     "output_type": "execute_result"
    },
    {
     "data": {
      "image/png": "[encoded data removed]",
      "text/plain": [
       "<Figure size 640x480 with 1 Axes>"
      ]
     },
     "metadata": {},
     "output_type": "display_data"
    }
   ],
   "source": [
    "np.random.seed(0)\n",
    "\n",
    "env = DiscretePortfolioTrainEnv(returns_df, episode_length=90)\n",
    "\n",
    "episodes = 100\n",
    "running_times = []\n",
    "\n",
    "for episode in tqdm(range(episodes)):\n",
    "    \n",
    "    start_time = time.time()\n",
    "    \n",
    "    obs = env.reset()\n",
    "    done = False\n",
    "    while not done:\n",
    "        action = np.random.randint(env.action_space.n)\n",
    "        obs, reward, done, info = env.step(action)\n",
    "    \n",
    "    end_time = time.time()\n",
    "    running_times.append(end_time - start_time)\n",
    "\n",
    "plt.plot(range(1, episodes+1), running_times);\n",
    "plt.xlabel('Episode Number');\n",
    "plt.ylabel('Running Time (s)');\n",
    "plt.title(f'Average: {np.mean(running_times)}')"
   ]
  },
  {
   "cell_type": "code",
   "execution_count": 13,
   "metadata": {},
   "outputs": [
    {
     "name": "stdout",
     "output_type": "stream",
     "text": [
      "1000.0\n",
      "1000.0\n",
      "1000.0\n",
      "1000.0\n",
      "1000.0\n",
      "1000.0\n",
      "999.638554787643\n",
      "997.3233232341679\n",
      "1008.3728307213955\n",
      "1012.6455579387784\n",
      "1017.8281311087217\n",
      "1015.9242803200107\n",
      "1014.2760336762715\n",
      "1020.7543111224073\n",
      "1020.557691989822\n",
      "1020.1496826010238\n",
      "1017.9856768618781\n",
      "1018.7355855068325\n",
      "1023.8796921682134\n",
      "1021.9325826813558\n",
      "1025.8632216638607\n",
      "1027.3984270485848\n",
      "1026.9837029098446\n",
      "1027.8858753020068\n",
      "1027.4147567884463\n",
      "1024.3115851509085\n",
      "1019.5937413455132\n",
      "1019.1799789548389\n",
      "1019.3934736630071\n",
      "1026.22100338783\n",
      "1012.932262059138\n",
      "1010.7009743818674\n",
      "1008.7106845845465\n",
      "1006.9712422582372\n",
      "1007.4452062825891\n",
      "1006.0739646266646\n",
      "1004.2772959961917\n",
      "1007.6889046572188\n",
      "1005.7345885442584\n",
      "1012.0467369816591\n",
      "1016.1359973876104\n",
      "1010.1733546416402\n",
      "1011.1386164640388\n",
      "1009.2245379259465\n",
      "1008.1184142932975\n",
      "1008.1184142932975\n",
      "1009.6976873443986\n",
      "1007.6512651535081\n",
      "1007.8649115389571\n",
      "1005.0608373349877\n",
      "1004.8622897266256\n",
      "1005.0820014867786\n",
      "1007.0631795593306\n",
      "1007.0631795593306\n",
      "1007.0631795593306\n",
      "1010.1601563108793\n",
      "1015.8207646572723\n",
      "1015.6095792554986\n",
      "1013.9344596365369\n",
      "1004.7328635884903\n",
      "1003.5364131682254\n",
      "1000.7808403338889\n",
      "999.7895886766194\n",
      "1009.8713889379932\n",
      "1003.3597095705761\n",
      "1006.2817676797498\n",
      "1007.2286220305878\n",
      "1007.3056963866949\n",
      "1006.9766033592522\n",
      "1009.7013930979708\n",
      "1011.1960130386043\n",
      "1013.151429878443\n",
      "1003.3458023936835\n",
      "998.3068452950257\n",
      "1013.8797830262208\n",
      "1010.66453080527\n",
      "1007.2162721829154\n",
      "1003.6539102504211\n",
      "998.3187216577849\n",
      "1004.9726229946016\n",
      "1013.0726754720522\n",
      "1014.854215506318\n",
      "1007.6192776642943\n",
      "1024.198259410695\n",
      "1029.6534676453089\n",
      "1024.0433208955997\n",
      "1026.8303992122696\n",
      "1025.6811954674797\n",
      "1029.6089106442053\n",
      "1030.578511045847\n"
     ]
    }
   ],
   "source": [
    "# testing mode\n",
    "np.random.seed(0)\n",
    "env = DiscretePortfolioTrainEnv(returns_df, episode_length=90)\n",
    "\n",
    "obs = env.reset()\n",
    "done = False\n",
    "while not done:\n",
    "    action = np.random.randint(env.action_space.n)\n",
    "    obs, reward, done, info = env.step(action)\n",
    "    env.render()"
   ]
  },
  {
   "cell_type": "code",
   "execution_count": 16,
   "metadata": {},
   "outputs": [
    {
     "name": "stdout",
     "output_type": "stream",
     "text": [
      "840.9372021714632\n"
     ]
    }
   ],
   "source": [
    "# testing mode\n",
    "np.random.seed(0)\n",
    "env = DiscretePortfolioEnv(returns_df_with_numerical_index, episode_length=90)\n",
    "\n",
    "obs = env.reset()\n",
    "done = False\n",
    "while not done:\n",
    "    action = np.random.randint(env.action_space.n)\n",
    "    obs, reward, done, info = env.step(action)\n",
    "\n",
    "print(env.current_balance)"
   ]
  },
  {
   "attachments": {},
   "cell_type": "markdown",
   "metadata": {},
   "source": [
    "The decreased running time is because we don't slice the dataframe with `self.ASSETS`"
   ]
  }
 ],
 "metadata": {
  "kernelspec": {
   "display_name": "rl_env",
   "language": "python",
   "name": "python3"
  },
  "language_info": {
   "codemirror_mode": {
    "name": "ipython",
    "version": 3
   },
   "file_extension": ".py",
   "mimetype": "text/x-python",
   "name": "python",
   "nbconvert_exporter": "python",
   "pygments_lexer": "ipython3",
   "version": "3.9.13"
  },
  "orig_nbformat": 4,
  "vscode": {
   "interpreter": {
    "hash": "f6869a3fcd5fc665c02cfd6671afb83b30427e0c0f4ed20c6135df23c280a7ab"
   }
  }
 },
 "nbformat": 4,
 "nbformat_minor": 2
}
