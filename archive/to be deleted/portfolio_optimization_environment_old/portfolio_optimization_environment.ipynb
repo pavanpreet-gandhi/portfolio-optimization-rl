{
 "cells": [
  {
   "attachments": {},
   "cell_type": "markdown",
   "metadata": {},
   "source": [
    "## Notes"
   ]
  },
  {
   "attachments": {},
   "cell_type": "markdown",
   "metadata": {},
   "source": [
    "#### action space\n",
    "- start with discrete first: actions represent buying/selling fixed percentage of just one stock to/from cash\n",
    "- box or multi-binary `(extension)`\n",
    "\n",
    "#### observations\n",
    "- n-period returns history\n",
    "- current portfolio allocations, current portfolio value, current profit `(extension)`\n",
    "- extra features e.g autocorrelations, volume, OHLC, economic data, trading indicators, sentiment `(extension)`\n",
    "\n",
    "#### reward\n",
    "- return of the portfolio (will this incentivise short bursty improvements over steady gains?)\n",
    "- reward is the portfolio value multiplied by some fraction of the number of time steps so far `(extension)` [more details](https://towardsdatascience.com/creating-a-custom-openai-gym-environment-for-stock-trading-be532be3910e)\n",
    "\n",
    "#### other considerations\n",
    "- trading fees (nowdays some brokers don't even take trading fees and make money just on the spread)\n",
    "- visualization stacks the percentage allocations showing changes over time\n",
    "- should there be a maximum episode length?\n",
    "\n",
    "TODO: Restructure all this into one table\n"
   ]
  },
  {
   "attachments": {},
   "cell_type": "markdown",
   "metadata": {},
   "source": [
    "## Code"
   ]
  },
  {
   "cell_type": "code",
   "execution_count": 26,
   "metadata": {},
   "outputs": [],
   "source": [
    "from gym import Env\n",
    "from gym.spaces import Discrete, Box\n",
    "import numpy as np\n",
    "import matplotlib.pyplot as plt\n",
    "import pandas as pd\n",
    "\n",
    "from tqdm import tqdm\n",
    "import time\n",
    "\n",
    "from stable_baselines3 import DQN\n",
    "from stable_baselines3.common.env_checker import check_env"
   ]
  },
  {
   "cell_type": "code",
   "execution_count": 27,
   "metadata": {},
   "outputs": [
    {
     "data": {
      "text/html": [
       "<div>\n",
       "<style scoped>\n",
       "    .dataframe tbody tr th:only-of-type {\n",
       "        vertical-align: middle;\n",
       "    }\n",
       "\n",
       "    .dataframe tbody tr th {\n",
       "        vertical-align: top;\n",
       "    }\n",
       "\n",
       "    .dataframe thead th {\n",
       "        text-align: right;\n",
       "    }\n",
       "</style>\n",
       "<table border=\"1\" class=\"dataframe\">\n",
       "  <thead>\n",
       "    <tr style=\"text-align: right;\">\n",
       "      <th></th>\n",
       "      <th>AAPL</th>\n",
       "      <th>GOOGL</th>\n",
       "      <th>MSFT</th>\n",
       "    </tr>\n",
       "    <tr>\n",
       "      <th>Date</th>\n",
       "      <th></th>\n",
       "      <th></th>\n",
       "      <th></th>\n",
       "    </tr>\n",
       "  </thead>\n",
       "  <tbody>\n",
       "    <tr>\n",
       "      <th>2022-01-04</th>\n",
       "      <td>0.987308</td>\n",
       "      <td>0.995917</td>\n",
       "      <td>0.982853</td>\n",
       "    </tr>\n",
       "    <tr>\n",
       "      <th>2022-01-05</th>\n",
       "      <td>0.973400</td>\n",
       "      <td>0.954124</td>\n",
       "      <td>0.961612</td>\n",
       "    </tr>\n",
       "    <tr>\n",
       "      <th>2022-01-06</th>\n",
       "      <td>0.983307</td>\n",
       "      <td>0.999800</td>\n",
       "      <td>0.992098</td>\n",
       "    </tr>\n",
       "    <tr>\n",
       "      <th>2022-01-07</th>\n",
       "      <td>1.000988</td>\n",
       "      <td>0.994697</td>\n",
       "      <td>1.000510</td>\n",
       "    </tr>\n",
       "    <tr>\n",
       "      <th>2022-01-10</th>\n",
       "      <td>1.000116</td>\n",
       "      <td>1.012061</td>\n",
       "      <td>1.000732</td>\n",
       "    </tr>\n",
       "  </tbody>\n",
       "</table>\n",
       "</div>"
      ],
      "text/plain": [
       "                AAPL     GOOGL      MSFT\n",
       "Date                                    \n",
       "2022-01-04  0.987308  0.995917  0.982853\n",
       "2022-01-05  0.973400  0.954124  0.961612\n",
       "2022-01-06  0.983307  0.999800  0.992098\n",
       "2022-01-07  1.000988  0.994697  1.000510\n",
       "2022-01-10  1.000116  1.012061  1.000732"
      ]
     },
     "execution_count": 27,
     "metadata": {},
     "output_type": "execute_result"
    }
   ],
   "source": [
    "train_data = pd.read_csv('train_data.csv', parse_dates=True, index_col='Date')\n",
    "train_data.head()"
   ]
  },
  {
   "cell_type": "code",
   "execution_count": 28,
   "metadata": {},
   "outputs": [],
   "source": [
    "class PortOptEnv(Env):\n",
    "    def __init__(self, df, window_size=14, order_size=0.1, starting_balance=1000, episode_length=90):\n",
    "        \n",
    "        self.df = df\n",
    "        self.NUM_ASSETS = len(self.df.columns)\n",
    "        self.NUM_DAYS = len(self.df)\n",
    "        self.WINDOW_SIZE = window_size\n",
    "        self.ORDER_SIZE = order_size\n",
    "        self.PORTFOLIO_PRECISION = len(str(self.ORDER_SIZE).split('.')[-1])\n",
    "        self.STARTING_BALANCE = starting_balance\n",
    "        self.EPISODE_LENGTH = episode_length\n",
    "        \n",
    "        # each action represents buying or selling ORDER_SIZE percent of a single stock\n",
    "        self.action_space = Discrete(self.NUM_ASSETS*2 + 1)\n",
    "        # each observation is a WINDOW_SIZE day history of returns ending with the current return\n",
    "        self.observation_space = Box(\n",
    "            low = 0.0, # can this be higher? TODO\n",
    "            high = 2.0, # can this be lower? TODO\n",
    "            shape = (self.WINDOW_SIZE*self.NUM_ASSETS,), \n",
    "            dtype = np.float64\n",
    "        )\n",
    "        self.reset()\n",
    "        \n",
    "    def reset(self):\n",
    "        self.balance = self.STARTING_BALANCE # total value of the portfolio\n",
    "        # percentage allocations of all the assets in the portfolio e.g [1, 0, 0, 0] for 3 assets\n",
    "        self.portfolio = np.insert(np.zeros(self.NUM_ASSETS), 0, 1.0)\n",
    "        self.current_length = 0\n",
    "        self.current_index = self.df.index.get_loc(self.df[self.WINDOW_SIZE:-self.EPISODE_LENGTH].sample().index[0]) # random starting index\n",
    "        return self.get_observation()\n",
    "    \n",
    "    def get_observation(self):\n",
    "        return self.df.iloc[self.current_index-self.WINDOW_SIZE+1: self.current_index+1].to_numpy().flatten()\n",
    "        \n",
    "    def step(self, action):\n",
    "        \n",
    "        # register action\n",
    "        action = action - self.NUM_ASSETS # e.g possible actions for 3 stocks are {-3, -2, -1, 0, 1, 2, 3}\n",
    "        action_index, action_sign = abs(action), np.sign(action)\n",
    "        \n",
    "        # update portfolio\n",
    "        if action_sign > 0 and self.portfolio[0] > 0: # we can buy as long as we have cash\n",
    "            self.portfolio[action_index] += self.ORDER_SIZE\n",
    "            self.portfolio[0] -= self.ORDER_SIZE\n",
    "        elif action_sign < 0 and self.portfolio[action_index] > 0: # we can sell as long as we have the asset we want to sell\n",
    "            self.portfolio[action_index] -= self.ORDER_SIZE\n",
    "            self.portfolio[0] += self.ORDER_SIZE\n",
    "        else:\n",
    "            pass\n",
    "        self.portfolio = self.portfolio.round(decimals=self.PORTFOLIO_PRECISION) # round to avoid floating point error\n",
    "        \n",
    "        # update current_index\n",
    "        self.current_index += 1\n",
    "        self.current_length += 1\n",
    "        if self.current_length >= self.EPISODE_LENGTH:\n",
    "            done = True\n",
    "        else:\n",
    "            done = False\n",
    "        \n",
    "        # update balance\n",
    "        old_balance = self.balance\n",
    "        incoming_returns = self.df.iloc[self.current_index]\n",
    "        self.balance = self.balance * (self.portfolio[0] + (incoming_returns * self.portfolio[1:]).sum())\n",
    "        if self.balance <= 0:\n",
    "            done = True\n",
    "        \n",
    "        # compute reward\n",
    "        reward = self.balance/old_balance\n",
    "        \n",
    "        # get new observation\n",
    "        observation = self.get_observation()\n",
    "        \n",
    "        # return step data\n",
    "        return observation, reward, done, {}\n",
    "    \n",
    "    def render(self):\n",
    "        pass"
   ]
  },
  {
   "cell_type": "code",
   "execution_count": 29,
   "metadata": {},
   "outputs": [],
   "source": [
    "env = PortOptEnv(df = train_data)\n",
    "check_env(env)"
   ]
  },
  {
   "cell_type": "code",
   "execution_count": 30,
   "metadata": {},
   "outputs": [],
   "source": [
    "env = PortOptEnv(df = train_data)"
   ]
  },
  {
   "cell_type": "code",
   "execution_count": 31,
   "metadata": {},
   "outputs": [
    {
     "name": "stderr",
     "output_type": "stream",
     "text": [
      "100%|██████████| 1000/1000 [00:23<00:00, 43.21it/s]\n"
     ]
    },
    {
     "data": {
      "text/plain": [
       "Text(0.5, 1.0, 'Average: 0.022995477199554443')"
      ]
     },
     "execution_count": 31,
     "metadata": {},
     "output_type": "execute_result"
    },
    {
     "data": {
      "image/png": "[encoded data removed]",
      "text/plain": [
       "<Figure size 640x480 with 1 Axes>"
      ]
     },
     "metadata": {},
     "output_type": "display_data"
    }
   ],
   "source": [
    "episodes = 1000\n",
    "running_times = []\n",
    "\n",
    "for episode in tqdm(range(episodes)):\n",
    "    \n",
    "    start_time = time.time()\n",
    "    \n",
    "    obs = env.reset()\n",
    "    done = False\n",
    "    while not done:\n",
    "        action = np.random.randint(env.action_space.n)\n",
    "        obs, reward, done, info = env.step(action)\n",
    "    \n",
    "    end_time = time.time()\n",
    "    running_times.append(end_time - start_time)\n",
    "\n",
    "plt.plot(range(1, episodes+1), running_times);\n",
    "plt.xlabel('Episode Number');\n",
    "plt.ylabel('Running Time (s)');\n",
    "plt.title(f'Average: {np.mean(running_times)}')"
   ]
  },
  {
   "cell_type": "code",
   "execution_count": 32,
   "metadata": {},
   "outputs": [],
   "source": [
    "# # Testing if it runs\n",
    "# episodes = 1000\n",
    "# for episode in range(episodes):\n",
    "#     obs = env.reset()\n",
    "#     done = False\n",
    "#     episode_length = 0\n",
    "    \n",
    "#     while not done:\n",
    "#         action = env.action_space.sample()\n",
    "#         obs, reward, done, info = env.step(action)\n",
    "#         episode_length += 1\n",
    "    \n",
    "#     print(f'Episode {episode} \\t Length {episode_length}')\n",
    "        \n",
    "# env.close()"
   ]
  },
  {
   "cell_type": "code",
   "execution_count": 33,
   "metadata": {},
   "outputs": [],
   "source": [
    "# # Testing actions to portfolio\n",
    "# episodes = 5\n",
    "# for episode in range(episodes):\n",
    "#     obs = env.reset()\n",
    "#     done = False\n",
    "    \n",
    "#     while not done:\n",
    "#         action = env.action_space.sample()\n",
    "#         obs, reward, done, info = env.step(action)\n",
    "#         print(action-env.NUM_ASSETS, '\\t', env.portfolio)\n",
    "#     print('')\n",
    "    \n",
    "# env.close()"
   ]
  },
  {
   "cell_type": "code",
   "execution_count": 34,
   "metadata": {},
   "outputs": [],
   "source": [
    "# # Testing balance calculations\n",
    "# episodes = 5\n",
    "# for episode in range(episodes):\n",
    "#     obs = env.reset()\n",
    "#     done = False\n",
    "#     expected_balance = 1000\n",
    "    \n",
    "#     while not done:\n",
    "#         action = env.action_space.sample()\n",
    "#         obs, reward, done, info = env.step(action)\n",
    "#         expected_balance *= reward\n",
    "#         print(reward, '\\t', env.balance, '\\t', expected_balance)\n",
    "#     print('')\n",
    "    \n",
    "# env.close()"
   ]
  },
  {
   "attachments": {},
   "cell_type": "markdown",
   "metadata": {},
   "source": [
    "Should I write test cases? Should I test with synthetic data?"
   ]
  },
  {
   "cell_type": "code",
   "execution_count": 35,
   "metadata": {},
   "outputs": [],
   "source": [
    "# # Testing if it runs\n",
    "# episodes = 5\n",
    "# for episode in range(episodes):\n",
    "#     obs = env.reset()\n",
    "#     done = False\n",
    "#     episode_length = 0\n",
    "    \n",
    "#     while not done:\n",
    "#         action = env.action_space.sample()\n",
    "#         obs, reward, done, info = env.step(action)\n",
    "#         episode_length += 1\n",
    "        \n",
    "#         print(f'Action \\t {action} \\t Observation {obs} \\t Reward {reward}')\n",
    "    \n",
    "#     print(f'Episode {episode} \\t Length {episode_length}')\n",
    "        \n",
    "# env.close()"
   ]
  }
 ],
 "metadata": {
  "kernelspec": {
   "display_name": "rl_env",
   "language": "python",
   "name": "python3"
  },
  "language_info": {
   "codemirror_mode": {
    "name": "ipython",
    "version": 3
   },
   "file_extension": ".py",
   "mimetype": "text/x-python",
   "name": "python",
   "nbconvert_exporter": "python",
   "pygments_lexer": "ipython3",
   "version": "3.9.13"
  },
  "orig_nbformat": 4,
  "vscode": {
   "interpreter": {
    "hash": "f6869a3fcd5fc665c02cfd6671afb83b30427e0c0f4ed20c6135df23c280a7ab"
   }
  }
 },
 "nbformat": 4,
 "nbformat_minor": 2
}
