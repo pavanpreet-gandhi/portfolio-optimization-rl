{
 "cells": [
  {
   "cell_type": "code",
   "execution_count": null,
   "metadata": {},
   "outputs": [],
   "source": [
    "# This notebook runs from the projects root directory.\n",
    "import os\n",
    "PROJECT_ROOT_DIRECTORY = 'senior_project'\n",
    "while os.path.basename(os.getcwd()) != PROJECT_ROOT_DIRECTORY:\n",
    "    os.chdir(os.pardir)\n",
    "print('Current working directory:', os.getcwd())"
   ]
  },
  {
   "cell_type": "code",
   "execution_count": null,
   "metadata": {},
   "outputs": [],
   "source": [
    "import numpy as np\n",
    "import pandas as pd\n",
    "import matplotlib.pyplot as plt\n",
    "import time\n",
    "from tqdm.notebook import tqdm\n",
    "from stable_baselines3 import DQN, A2C\n",
    "from environments.discrete_env_v2 import PortfolioManagementEnv\n",
    "from experiments.utils import evaluate_results"
   ]
  },
  {
   "cell_type": "code",
   "execution_count": null,
   "metadata": {},
   "outputs": [],
   "source": [
    "experiment_id = 'EXPERIMENT_1_1678523209'"
   ]
  },
  {
   "cell_type": "code",
   "execution_count": null,
   "metadata": {},
   "outputs": [],
   "source": [
    "train_df = pd.read_csv('data\\dow_10_returns_train.csv', index_col=0, parse_dates=True)\n",
    "val_df = pd.read_csv('data\\dow_10_returns_val.csv', index_col=0, parse_dates=True)\n",
    "\n",
    "TICKERS = ['AXP', 'AAPL', 'BA', 'GS', 'INTC', 'JNJ', 'KO', 'NKE', 'PG', 'DIS']\n",
    "RETURN_COLS = ['RF_RETURN'] + [f'{ticker}_RETURN' for ticker in TICKERS]\n",
    "FEATURE_COLS = RETURN_COLS"
   ]
  },
  {
   "cell_type": "code",
   "execution_count": null,
   "metadata": {},
   "outputs": [],
   "source": [
    "train_env = PortfolioManagementEnv(\n",
    "    train_df, \n",
    "    RETURN_COLS, \n",
    "    FEATURE_COLS, \n",
    "    window_size = 20,\n",
    "    episode_length = -1\n",
    ")\n",
    "\n",
    "val_env = PortfolioManagementEnv(\n",
    "    val_df, \n",
    "    RETURN_COLS, \n",
    "    FEATURE_COLS, \n",
    "    window_size = 20,\n",
    "    episode_length = -1\n",
    ")"
   ]
  },
  {
   "cell_type": "code",
   "execution_count": null,
   "metadata": {},
   "outputs": [],
   "source": [
    "envs = (train_env, val_env)\n",
    "model_numbers = (60_000, 110_000, 200_000, 340_000, 600_000)"
   ]
  },
  {
   "cell_type": "code",
   "execution_count": null,
   "metadata": {},
   "outputs": [],
   "source": [
    "fig, axes = plt.subplots(len(model_numbers), len(envs), figsize=(6*len(envs), 3*len(model_numbers))) # each figure is 6 by 3\n",
    "for i,model_number in tqdm(enumerate(model_numbers)):\n",
    "    model = A2C.load(f'experiments/models/{experiment_id}/{model_number}')\n",
    "    for j,env in enumerate(envs):\n",
    "        obs, done = env.reset(), False\n",
    "        while not done:\n",
    "            action, _states = model.predict(obs, deterministic=True)\n",
    "            obs, reward, done, info = env.step(action)\n",
    "        env.render(axes[i,j], title=f'Timesteps: {model_number}')\n",
    "        env.close()"
   ]
  },
  {
   "cell_type": "code",
   "execution_count": null,
   "metadata": {},
   "outputs": [],
   "source": [
    "results_df = pd.read_csv('experiments/results_df.csv', index_col=0, parse_dates=True)\n",
    "\n",
    "timesteps_to_save = (600_000,)\n",
    "for timestep in timesteps_to_save:\n",
    "    env = val_env\n",
    "    obs, done = env.reset(), False\n",
    "    while not done:\n",
    "        action, _states = model.predict(obs, deterministic=True)\n",
    "        obs, reward, done, info = env.step(action)\n",
    "    env.close()\n",
    "    \n",
    "    results_df[f'{experiment_id}_{timestep}'] = env.get_portfolio_returns()"
   ]
  },
  {
   "cell_type": "code",
   "execution_count": null,
   "metadata": {},
   "outputs": [],
   "source": [
    "evaluate_results(\n",
    "    results_df.dropna(),\n",
    "    plot_metrics=['Annualized Mean Return', 'Annualized Risk', 'Sharpe Ratio'],\n",
    "    rot=75\n",
    ");"
   ]
  },
  {
   "attachments": {},
   "cell_type": "markdown",
   "metadata": {},
   "source": [
    "<span style=\"color:red\">**(RUN ONCE)**</span>"
   ]
  },
  {
   "cell_type": "code",
   "execution_count": null,
   "metadata": {},
   "outputs": [],
   "source": [
    "# results_df.to_csv('experiments/results_df.csv')"
   ]
  }
 ],
 "metadata": {
  "kernelspec": {
   "display_name": "rl_env",
   "language": "python",
   "name": "python3"
  },
  "language_info": {
   "codemirror_mode": {
    "name": "ipython",
    "version": 3
   },
   "file_extension": ".py",
   "mimetype": "text/x-python",
   "name": "python",
   "nbconvert_exporter": "python",
   "pygments_lexer": "ipython3",
   "version": "3.9.13"
  },
  "orig_nbformat": 4
 },
 "nbformat": 4,
 "nbformat_minor": 2
}
