{
 "cells": [
  {
   "cell_type": "code",
   "execution_count": 2,
   "metadata": {},
   "outputs": [
    {
     "name": "stdout",
     "output_type": "stream",
     "text": [
      "Current working directory: c:\\Users\\pavan\\Desktop\\senior_project\n"
     ]
    }
   ],
   "source": [
    "# This notebook runs from the projects root directory.\n",
    "import os\n",
    "PROJECT_ROOT_DIRECTORY = 'senior_project'\n",
    "while os.path.basename(os.getcwd()) != PROJECT_ROOT_DIRECTORY:\n",
    "    os.chdir(os.pardir)\n",
    "print('Current working directory:', os.getcwd())"
   ]
  },
  {
   "attachments": {},
   "cell_type": "markdown",
   "metadata": {},
   "source": [
    "## Setup"
   ]
  },
  {
   "cell_type": "code",
   "execution_count": 3,
   "metadata": {},
   "outputs": [],
   "source": [
    "import numpy as np\n",
    "import pandas as pd\n",
    "import matplotlib.pyplot as plt\n",
    "from tqdm.notebook import tqdm\n",
    "import yfinance as yf\n",
    "\n",
    "from pypfopt.expected_returns import mean_historical_return\n",
    "from pypfopt.risk_models import risk_matrix\n",
    "from pypfopt.efficient_frontier import EfficientFrontier\n",
    "\n",
    "from environments.discrete_env_v3 import PortfolioManagementEnv\n",
    "from experiments.utils import evaluate_results"
   ]
  },
  {
   "cell_type": "code",
   "execution_count": 6,
   "metadata": {},
   "outputs": [],
   "source": [
    "RETURN_COLS = ['LARGE_CAP', 'SMALL_CAP', 'BONDS', 'CASH', 'REAL_ESTATE', 'COMMODITIES', 'GOLD']\n",
    "FEATURE_COLS = RETURN_COLS"
   ]
  },
  {
   "cell_type": "code",
   "execution_count": 4,
   "metadata": {},
   "outputs": [
    {
     "data": {
      "text/html": [
       "<div>\n",
       "<style scoped>\n",
       "    .dataframe tbody tr th:only-of-type {\n",
       "        vertical-align: middle;\n",
       "    }\n",
       "\n",
       "    .dataframe tbody tr th {\n",
       "        vertical-align: top;\n",
       "    }\n",
       "\n",
       "    .dataframe thead th {\n",
       "        text-align: right;\n",
       "    }\n",
       "</style>\n",
       "<table border=\"1\" class=\"dataframe\">\n",
       "  <thead>\n",
       "    <tr style=\"text-align: right;\">\n",
       "      <th></th>\n",
       "      <th>LARGE_CAP</th>\n",
       "      <th>SMALL_CAP</th>\n",
       "      <th>BONDS</th>\n",
       "      <th>CASH</th>\n",
       "      <th>REAL_ESTATE</th>\n",
       "      <th>COMMODITIES</th>\n",
       "      <th>GOLD</th>\n",
       "      <th>LARGE_CAP_RETURN_12</th>\n",
       "      <th>LARGE_CAP_RETURN_26</th>\n",
       "      <th>LARGE_CAP_RETURN_60</th>\n",
       "      <th>...</th>\n",
       "      <th>COMMODITIES_RETURN_12</th>\n",
       "      <th>COMMODITIES_RETURN_26</th>\n",
       "      <th>COMMODITIES_RETURN_60</th>\n",
       "      <th>COMMODITIES_STD_20</th>\n",
       "      <th>COMMODITIES_STD_10</th>\n",
       "      <th>GOLD_RETURN_12</th>\n",
       "      <th>GOLD_RETURN_26</th>\n",
       "      <th>GOLD_RETURN_60</th>\n",
       "      <th>GOLD_STD_20</th>\n",
       "      <th>GOLD_STD_10</th>\n",
       "    </tr>\n",
       "  </thead>\n",
       "  <tbody>\n",
       "    <tr>\n",
       "      <th>2011-03-30</th>\n",
       "      <td>0.006801</td>\n",
       "      <td>0.011092</td>\n",
       "      <td>0.001899</td>\n",
       "      <td>0.0</td>\n",
       "      <td>0.014518</td>\n",
       "      <td>-0.001585</td>\n",
       "      <td>0.003328</td>\n",
       "      <td>0.005496</td>\n",
       "      <td>0.000439</td>\n",
       "      <td>0.000802</td>\n",
       "      <td>...</td>\n",
       "      <td>0.004771</td>\n",
       "      <td>0.000262</td>\n",
       "      <td>0.001156</td>\n",
       "      <td>0.013666</td>\n",
       "      <td>0.012126</td>\n",
       "      <td>0.001769</td>\n",
       "      <td>0.000666</td>\n",
       "      <td>0.000081</td>\n",
       "      <td>0.007749</td>\n",
       "      <td>0.006018</td>\n",
       "    </tr>\n",
       "    <tr>\n",
       "      <th>2011-03-31</th>\n",
       "      <td>-0.001318</td>\n",
       "      <td>0.004923</td>\n",
       "      <td>0.001902</td>\n",
       "      <td>0.0</td>\n",
       "      <td>0.008103</td>\n",
       "      <td>0.018912</td>\n",
       "      <td>0.008582</td>\n",
       "      <td>0.004118</td>\n",
       "      <td>0.000606</td>\n",
       "      <td>0.000794</td>\n",
       "      <td>...</td>\n",
       "      <td>0.003363</td>\n",
       "      <td>0.000665</td>\n",
       "      <td>0.001711</td>\n",
       "      <td>0.014273</td>\n",
       "      <td>0.008757</td>\n",
       "      <td>0.002090</td>\n",
       "      <td>0.000652</td>\n",
       "      <td>0.000621</td>\n",
       "      <td>0.007392</td>\n",
       "      <td>0.006310</td>\n",
       "    </tr>\n",
       "    <tr>\n",
       "      <th>2011-04-01</th>\n",
       "      <td>0.004619</td>\n",
       "      <td>0.006018</td>\n",
       "      <td>0.000000</td>\n",
       "      <td>0.0</td>\n",
       "      <td>0.001539</td>\n",
       "      <td>0.000992</td>\n",
       "      <td>-0.004719</td>\n",
       "      <td>0.004152</td>\n",
       "      <td>0.000822</td>\n",
       "      <td>0.000782</td>\n",
       "      <td>...</td>\n",
       "      <td>0.002366</td>\n",
       "      <td>0.001251</td>\n",
       "      <td>0.001649</td>\n",
       "      <td>0.014268</td>\n",
       "      <td>0.008355</td>\n",
       "      <td>0.000598</td>\n",
       "      <td>0.000759</td>\n",
       "      <td>0.000589</td>\n",
       "      <td>0.007204</td>\n",
       "      <td>0.005933</td>\n",
       "    </tr>\n",
       "  </tbody>\n",
       "</table>\n",
       "<p>3 rows × 42 columns</p>\n",
       "</div>"
      ],
      "text/plain": [
       "            LARGE_CAP  SMALL_CAP     BONDS  CASH  REAL_ESTATE  COMMODITIES  \\\n",
       "2011-03-30   0.006801   0.011092  0.001899   0.0     0.014518    -0.001585   \n",
       "2011-03-31  -0.001318   0.004923  0.001902   0.0     0.008103     0.018912   \n",
       "2011-04-01   0.004619   0.006018  0.000000   0.0     0.001539     0.000992   \n",
       "\n",
       "                GOLD  LARGE_CAP_RETURN_12  LARGE_CAP_RETURN_26  \\\n",
       "2011-03-30  0.003328             0.005496             0.000439   \n",
       "2011-03-31  0.008582             0.004118             0.000606   \n",
       "2011-04-01 -0.004719             0.004152             0.000822   \n",
       "\n",
       "            LARGE_CAP_RETURN_60  ...  COMMODITIES_RETURN_12  \\\n",
       "2011-03-30             0.000802  ...               0.004771   \n",
       "2011-03-31             0.000794  ...               0.003363   \n",
       "2011-04-01             0.000782  ...               0.002366   \n",
       "\n",
       "            COMMODITIES_RETURN_26  COMMODITIES_RETURN_60  COMMODITIES_STD_20  \\\n",
       "2011-03-30               0.000262               0.001156            0.013666   \n",
       "2011-03-31               0.000665               0.001711            0.014273   \n",
       "2011-04-01               0.001251               0.001649            0.014268   \n",
       "\n",
       "            COMMODITIES_STD_10  GOLD_RETURN_12  GOLD_RETURN_26  \\\n",
       "2011-03-30            0.012126        0.001769        0.000666   \n",
       "2011-03-31            0.008757        0.002090        0.000652   \n",
       "2011-04-01            0.008355        0.000598        0.000759   \n",
       "\n",
       "            GOLD_RETURN_60  GOLD_STD_20  GOLD_STD_10  \n",
       "2011-03-30        0.000081     0.007749     0.006018  \n",
       "2011-03-31        0.000621     0.007392     0.006310  \n",
       "2011-04-01        0.000589     0.007204     0.005933  \n",
       "\n",
       "[3 rows x 42 columns]"
      ]
     },
     "execution_count": 4,
     "metadata": {},
     "output_type": "execute_result"
    }
   ],
   "source": [
    "df = pd.read_csv('data/asset_classes_stationary_features.csv', index_col=0, parse_dates=True)\n",
    "df.head(3)"
   ]
  },
  {
   "attachments": {},
   "cell_type": "markdown",
   "metadata": {},
   "source": [
    "## Baseline: Max Sharpe Ratio Strategy"
   ]
  },
  {
   "cell_type": "code",
   "execution_count": 9,
   "metadata": {},
   "outputs": [
    {
     "ename": "ValueError",
     "evalue": "Shape of passed values is (147, 6), indices imply (147, 7)",
     "output_type": "error",
     "traceback": [
      "\u001b[1;31m---------------------------------------------------------------------------\u001b[0m",
      "\u001b[1;31mValueError\u001b[0m                                Traceback (most recent call last)",
      "\u001b[1;32mc:\\Users\\pavan\\Desktop\\senior_project\\experiments_2\\experiment_2_0.ipynb Cell 7\u001b[0m in \u001b[0;36m1\n\u001b[0;32m     <a href='vscode-notebook-cell:/c%3A/Users/pavan/Desktop/senior_project/experiments_2/experiment_2_0.ipynb#W6sZmlsZQ%3D%3D?line=14'>15</a>\u001b[0m obs, done \u001b[39m=\u001b[39m env\u001b[39m.\u001b[39mreset(), \u001b[39mFalse\u001b[39;00m\n\u001b[0;32m     <a href='vscode-notebook-cell:/c%3A/Users/pavan/Desktop/senior_project/experiments_2/experiment_2_0.ipynb#W6sZmlsZQ%3D%3D?line=15'>16</a>\u001b[0m \u001b[39mwhile\u001b[39;00m \u001b[39mnot\u001b[39;00m done:\n\u001b[1;32m---> <a href='vscode-notebook-cell:/c%3A/Users/pavan/Desktop/senior_project/experiments_2/experiment_2_0.ipynb#W6sZmlsZQ%3D%3D?line=17'>18</a>\u001b[0m     observation_df \u001b[39m=\u001b[39m pd\u001b[39m.\u001b[39;49mDataFrame(obs\u001b[39m.\u001b[39;49mreshape(\u001b[39m-\u001b[39;49m\u001b[39m1\u001b[39;49m, env\u001b[39m.\u001b[39;49mNUM_ASSETS), columns\u001b[39m=\u001b[39;49mFEATURE_COLS)\n\u001b[0;32m     <a href='vscode-notebook-cell:/c%3A/Users/pavan/Desktop/senior_project/experiments_2/experiment_2_0.ipynb#W6sZmlsZQ%3D%3D?line=18'>19</a>\u001b[0m     annualized_mean_return \u001b[39m=\u001b[39m mean_historical_return(observation_df, returns_data\u001b[39m=\u001b[39m\u001b[39mTrue\u001b[39;00m)\n\u001b[0;32m     <a href='vscode-notebook-cell:/c%3A/Users/pavan/Desktop/senior_project/experiments_2/experiment_2_0.ipynb#W6sZmlsZQ%3D%3D?line=19'>20</a>\u001b[0m     annualized_covariance \u001b[39m=\u001b[39m risk_matrix(observation_df, returns_data\u001b[39m=\u001b[39m\u001b[39mTrue\u001b[39;00m, method\u001b[39m=\u001b[39m\u001b[39m'\u001b[39m\u001b[39msample_cov\u001b[39m\u001b[39m'\u001b[39m)\n",
      "File \u001b[1;32mc:\\Users\\pavan\\anaconda3\\envs\\rl_env\\lib\\site-packages\\pandas\\core\\frame.py:721\u001b[0m, in \u001b[0;36mDataFrame.__init__\u001b[1;34m(self, data, index, columns, dtype, copy)\u001b[0m\n\u001b[0;32m    711\u001b[0m         mgr \u001b[39m=\u001b[39m dict_to_mgr(\n\u001b[0;32m    712\u001b[0m             \u001b[39m# error: Item \"ndarray\" of \"Union[ndarray, Series, Index]\" has no\u001b[39;00m\n\u001b[0;32m    713\u001b[0m             \u001b[39m# attribute \"name\"\u001b[39;00m\n\u001b[1;32m   (...)\u001b[0m\n\u001b[0;32m    718\u001b[0m             typ\u001b[39m=\u001b[39mmanager,\n\u001b[0;32m    719\u001b[0m         )\n\u001b[0;32m    720\u001b[0m     \u001b[39melse\u001b[39;00m:\n\u001b[1;32m--> 721\u001b[0m         mgr \u001b[39m=\u001b[39m ndarray_to_mgr(\n\u001b[0;32m    722\u001b[0m             data,\n\u001b[0;32m    723\u001b[0m             index,\n\u001b[0;32m    724\u001b[0m             columns,\n\u001b[0;32m    725\u001b[0m             dtype\u001b[39m=\u001b[39;49mdtype,\n\u001b[0;32m    726\u001b[0m             copy\u001b[39m=\u001b[39;49mcopy,\n\u001b[0;32m    727\u001b[0m             typ\u001b[39m=\u001b[39;49mmanager,\n\u001b[0;32m    728\u001b[0m         )\n\u001b[0;32m    730\u001b[0m \u001b[39m# For data is list-like, or Iterable (will consume into list)\u001b[39;00m\n\u001b[0;32m    731\u001b[0m \u001b[39melif\u001b[39;00m is_list_like(data):\n",
      "File \u001b[1;32mc:\\Users\\pavan\\anaconda3\\envs\\rl_env\\lib\\site-packages\\pandas\\core\\internals\\construction.py:349\u001b[0m, in \u001b[0;36mndarray_to_mgr\u001b[1;34m(values, index, columns, dtype, copy, typ)\u001b[0m\n\u001b[0;32m    344\u001b[0m \u001b[39m# _prep_ndarraylike ensures that values.ndim == 2 at this point\u001b[39;00m\n\u001b[0;32m    345\u001b[0m index, columns \u001b[39m=\u001b[39m _get_axes(\n\u001b[0;32m    346\u001b[0m     values\u001b[39m.\u001b[39mshape[\u001b[39m0\u001b[39m], values\u001b[39m.\u001b[39mshape[\u001b[39m1\u001b[39m], index\u001b[39m=\u001b[39mindex, columns\u001b[39m=\u001b[39mcolumns\n\u001b[0;32m    347\u001b[0m )\n\u001b[1;32m--> 349\u001b[0m _check_values_indices_shape_match(values, index, columns)\n\u001b[0;32m    351\u001b[0m \u001b[39mif\u001b[39;00m typ \u001b[39m==\u001b[39m \u001b[39m\"\u001b[39m\u001b[39marray\u001b[39m\u001b[39m\"\u001b[39m:\n\u001b[0;32m    353\u001b[0m     \u001b[39mif\u001b[39;00m \u001b[39missubclass\u001b[39m(values\u001b[39m.\u001b[39mdtype\u001b[39m.\u001b[39mtype, \u001b[39mstr\u001b[39m):\n",
      "File \u001b[1;32mc:\\Users\\pavan\\anaconda3\\envs\\rl_env\\lib\\site-packages\\pandas\\core\\internals\\construction.py:420\u001b[0m, in \u001b[0;36m_check_values_indices_shape_match\u001b[1;34m(values, index, columns)\u001b[0m\n\u001b[0;32m    418\u001b[0m passed \u001b[39m=\u001b[39m values\u001b[39m.\u001b[39mshape\n\u001b[0;32m    419\u001b[0m implied \u001b[39m=\u001b[39m (\u001b[39mlen\u001b[39m(index), \u001b[39mlen\u001b[39m(columns))\n\u001b[1;32m--> 420\u001b[0m \u001b[39mraise\u001b[39;00m \u001b[39mValueError\u001b[39;00m(\u001b[39mf\u001b[39m\u001b[39m\"\u001b[39m\u001b[39mShape of passed values is \u001b[39m\u001b[39m{\u001b[39;00mpassed\u001b[39m}\u001b[39;00m\u001b[39m, indices imply \u001b[39m\u001b[39m{\u001b[39;00mimplied\u001b[39m}\u001b[39;00m\u001b[39m\"\u001b[39m)\n",
      "\u001b[1;31mValueError\u001b[0m: Shape of passed values is (147, 6), indices imply (147, 7)"
     ]
    }
   ],
   "source": [
    "WINDOW_SIZE = 126 # half a trading year\n",
    "\n",
    "np.random.seed(5)\n",
    "value_error_count = 0\n",
    "env = PortfolioManagementEnv(\n",
    "    df, \n",
    "    RETURN_COLS, \n",
    "    feature_cols=FEATURE_COLS, \n",
    "    starting_balance=1, \n",
    "    episode_length=-1, \n",
    "    window_size=WINDOW_SIZE,\n",
    "    allocations_in_obs=False,\n",
    ")\n",
    "\n",
    "obs, done = env.reset(), False\n",
    "while not done:\n",
    "    \n",
    "    observation_df = pd.DataFrame(obs.reshape(-1, env.NUM_ASSETS), columns=FEATURE_COLS)\n",
    "    annualized_mean_return = mean_historical_return(observation_df, returns_data=True)\n",
    "    annualized_covariance = risk_matrix(observation_df, returns_data=True, method='sample_cov')\n",
    "    ef = EfficientFrontier(annualized_mean_return, annualized_covariance)\n",
    "    \n",
    "    try:\n",
    "        weights = ef.max_sharpe(risk_free_rate=(1+env.RETURNS[env.current_index,0])**252-1)\n",
    "        cleaned_weights = ef.clean_weights()\n",
    "        env.current_allocations = np.insert(np.array([w for w in cleaned_weights.values()]), 0, 0)\n",
    "    \n",
    "    except ValueError: # for when none of the assets must have an expected return exceeding the risk-free rate\n",
    "        env.current_allocations = np.insert(np.zeros(len(FEATURE_COLS)), 0, 1) # invest everything into the risk free rate\n",
    "        value_error_count += 1\n",
    "    \n",
    "    obs, reward, done, info = env.step(env.NUM_ASSETS) # do nothing\n",
    "\n",
    "print(f'Value error count: {value_error_count}')\n",
    "env.render(title='Max Sharpe Portfolio Allocations (6 month)')\n",
    "env.close()"
   ]
  },
  {
   "attachments": {},
   "cell_type": "markdown",
   "metadata": {},
   "source": [
    "## Baseline: Dow Jones Industrial Average (DJIA)"
   ]
  },
  {
   "cell_type": "code",
   "execution_count": null,
   "metadata": {},
   "outputs": [],
   "source": [
    "dija_returns = yf.download('^DJI', start = df.index[0], end = df.index[-1], interval = '1d')['Adj Close'].pct_change(1)"
   ]
  },
  {
   "attachments": {},
   "cell_type": "markdown",
   "metadata": {},
   "source": [
    "## Creating and saving `results_df`"
   ]
  },
  {
   "cell_type": "code",
   "execution_count": null,
   "metadata": {},
   "outputs": [],
   "source": [
    "results_df = pd.DataFrame(index=df.index)\n",
    "results_df['Baseline DJIA'] = dija_returns\n",
    "results_df['Baseline Max Sharpe'] = env.get_portfolio_returns()\n",
    "results_df.head(3)"
   ]
  },
  {
   "cell_type": "code",
   "execution_count": null,
   "metadata": {},
   "outputs": [],
   "source": [
    "fig, axes = plt.subplots(1,2, figsize=(12,4))\n",
    "results_df.plot(ax = axes[0], lw=0.3, alpha=0.5, title='Returns');\n",
    "(results_df+1).cumprod().plot(ax = axes[1], lw=1, alpha=1, title='Cumilative Returns');"
   ]
  },
  {
   "attachments": {},
   "cell_type": "markdown",
   "metadata": {},
   "source": [
    "<span style=\"color:red\">**(RUN ONCE)**</span>"
   ]
  },
  {
   "cell_type": "code",
   "execution_count": null,
   "metadata": {},
   "outputs": [],
   "source": [
    "# results_df.to_csv('experiments/results_df.csv')"
   ]
  },
  {
   "cell_type": "code",
   "execution_count": null,
   "metadata": {},
   "outputs": [],
   "source": [
    "results_df.to_csv('experiments/baselines_df.csv')"
   ]
  },
  {
   "attachments": {},
   "cell_type": "markdown",
   "metadata": {},
   "source": [
    "## Evaluate Results Function"
   ]
  },
  {
   "cell_type": "code",
   "execution_count": null,
   "metadata": {},
   "outputs": [],
   "source": [
    "def evaluate_results(results_df, plot_metrics=[]):\n",
    "    \"\"\"\n",
    "    Evaluate `results_df` on a common set of metrics.\n",
    "    \"\"\"\n",
    "    metrics = {}\n",
    "    metrics['Annualized Mean Return'] = (1+results_df).prod()**(252/len(df))-1\n",
    "    metrics['Annualized Risk'] = np.sqrt(results_df.var()*252)\n",
    "    metrics['Sharpe Ratio'] = metrics['Annualized Mean Return'] / metrics['Annualized Risk']\n",
    "    \n",
    "    if len(plot_metrics)>0:\n",
    "        fig, axes = plt.subplots(1, len(plot_metrics), figsize=(len(plot_metrics)*4, 4))\n",
    "        for i,metric in enumerate(plot_metrics):\n",
    "            metrics[metric].plot.bar(ax=axes[i], title=metric, rot=0, color='#F4C430')\n",
    "    \n",
    "    return metrics"
   ]
  },
  {
   "cell_type": "code",
   "execution_count": null,
   "metadata": {},
   "outputs": [],
   "source": [
    "# example\n",
    "metrics = evaluate_results(results_df, plot_metrics=['Annualized Mean Return', 'Annualized Risk', 'Sharpe Ratio'])"
   ]
  }
 ],
 "metadata": {
  "kernelspec": {
   "display_name": "rl_env",
   "language": "python",
   "name": "python3"
  },
  "language_info": {
   "codemirror_mode": {
    "name": "ipython",
    "version": 3
   },
   "file_extension": ".py",
   "mimetype": "text/x-python",
   "name": "python",
   "nbconvert_exporter": "python",
   "pygments_lexer": "ipython3",
   "version": "3.9.13"
  },
  "orig_nbformat": 4
 },
 "nbformat": 4,
 "nbformat_minor": 2
}
