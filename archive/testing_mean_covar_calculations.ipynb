{
 "cells": [
  {
   "cell_type": "code",
   "execution_count": 1,
   "metadata": {},
   "outputs": [
    {
     "name": "stdout",
     "output_type": "stream",
     "text": [
      "Current working directory: c:\\Users\\pavan\\Desktop\\senior_project\n"
     ]
    }
   ],
   "source": [
    "# make the current working directory the project root directory\n",
    "import os\n",
    "PROJECT_ROOT_DIRECTORY = 'senior_project'\n",
    "while os.path.basename(os.getcwd()) != PROJECT_ROOT_DIRECTORY:\n",
    "    os.chdir(os.pardir)\n",
    "print('Current working directory:', os.getcwd())"
   ]
  },
  {
   "cell_type": "code",
   "execution_count": 2,
   "metadata": {},
   "outputs": [
    {
     "name": "stdout",
     "output_type": "stream",
     "text": [
      "(CVXPY) Mar 10 03:51:11 PM: Encountered unexpected exception importing solver OSQP:\n",
      "ImportError('DLL load failed while importing qdldl: The specified module could not be found.')\n"
     ]
    }
   ],
   "source": [
    "import numpy as np\n",
    "import pandas as pd\n",
    "import matplotlib.pyplot as plt\n",
    "from tqdm.notebook import tqdm\n",
    "import yfinance as yf\n",
    "from environments.discrete_env_v1 import PortfolioManagementEnv\n",
    "\n",
    "from pypfopt.expected_returns import mean_historical_return\n",
    "from pypfopt.risk_models import risk_matrix\n",
    "from pypfopt.efficient_frontier import EfficientFrontier\n",
    "from pypfopt.risk_models import CovarianceShrinkage\n",
    "from pypfopt import plotting"
   ]
  },
  {
   "cell_type": "code",
   "execution_count": 3,
   "metadata": {},
   "outputs": [
    {
     "data": {
      "text/html": [
       "<div>\n",
       "<style scoped>\n",
       "    .dataframe tbody tr th:only-of-type {\n",
       "        vertical-align: middle;\n",
       "    }\n",
       "\n",
       "    .dataframe tbody tr th {\n",
       "        vertical-align: top;\n",
       "    }\n",
       "\n",
       "    .dataframe thead th {\n",
       "        text-align: right;\n",
       "    }\n",
       "</style>\n",
       "<table border=\"1\" class=\"dataframe\">\n",
       "  <thead>\n",
       "    <tr style=\"text-align: right;\">\n",
       "      <th></th>\n",
       "      <th>RF_RETURN</th>\n",
       "      <th>AXP_RETURN</th>\n",
       "      <th>AAPL_RETURN</th>\n",
       "      <th>BA_RETURN</th>\n",
       "      <th>GS_RETURN</th>\n",
       "      <th>INTC_RETURN</th>\n",
       "      <th>JNJ_RETURN</th>\n",
       "      <th>KO_RETURN</th>\n",
       "      <th>NKE_RETURN</th>\n",
       "      <th>PG_RETURN</th>\n",
       "      <th>DIS_RETURN</th>\n",
       "    </tr>\n",
       "  </thead>\n",
       "  <tbody>\n",
       "    <tr>\n",
       "      <th>2010-01-04</th>\n",
       "      <td>0.000150</td>\n",
       "      <td>0.000000</td>\n",
       "      <td>0.000000</td>\n",
       "      <td>0.000000</td>\n",
       "      <td>0.000000</td>\n",
       "      <td>0.000000</td>\n",
       "      <td>0.000000</td>\n",
       "      <td>0.000000</td>\n",
       "      <td>0.000000</td>\n",
       "      <td>0.000000</td>\n",
       "      <td>0.000000</td>\n",
       "    </tr>\n",
       "    <tr>\n",
       "      <th>2010-01-05</th>\n",
       "      <td>0.000146</td>\n",
       "      <td>-0.002199</td>\n",
       "      <td>0.001729</td>\n",
       "      <td>0.032752</td>\n",
       "      <td>0.017680</td>\n",
       "      <td>-0.000479</td>\n",
       "      <td>-0.011595</td>\n",
       "      <td>-0.012097</td>\n",
       "      <td>0.003979</td>\n",
       "      <td>0.000327</td>\n",
       "      <td>-0.002494</td>\n",
       "    </tr>\n",
       "    <tr>\n",
       "      <th>2010-01-06</th>\n",
       "      <td>0.000148</td>\n",
       "      <td>0.016165</td>\n",
       "      <td>-0.015906</td>\n",
       "      <td>0.030334</td>\n",
       "      <td>-0.010674</td>\n",
       "      <td>-0.003354</td>\n",
       "      <td>0.008133</td>\n",
       "      <td>-0.000355</td>\n",
       "      <td>-0.006097</td>\n",
       "      <td>-0.004743</td>\n",
       "      <td>-0.005314</td>\n",
       "    </tr>\n",
       "    <tr>\n",
       "      <th>2010-01-07</th>\n",
       "      <td>0.000149</td>\n",
       "      <td>0.016219</td>\n",
       "      <td>-0.001849</td>\n",
       "      <td>0.040482</td>\n",
       "      <td>0.019568</td>\n",
       "      <td>-0.009615</td>\n",
       "      <td>-0.007137</td>\n",
       "      <td>-0.002485</td>\n",
       "      <td>0.009815</td>\n",
       "      <td>-0.005423</td>\n",
       "      <td>0.000314</td>\n",
       "    </tr>\n",
       "    <tr>\n",
       "      <th>2010-01-08</th>\n",
       "      <td>0.000148</td>\n",
       "      <td>-0.000715</td>\n",
       "      <td>0.006649</td>\n",
       "      <td>-0.009646</td>\n",
       "      <td>-0.018911</td>\n",
       "      <td>0.011165</td>\n",
       "      <td>0.003439</td>\n",
       "      <td>-0.018509</td>\n",
       "      <td>-0.001975</td>\n",
       "      <td>-0.001322</td>\n",
       "      <td>0.001571</td>\n",
       "    </tr>\n",
       "  </tbody>\n",
       "</table>\n",
       "</div>"
      ],
      "text/plain": [
       "            RF_RETURN  AXP_RETURN  AAPL_RETURN  BA_RETURN  GS_RETURN  \\\n",
       "2010-01-04   0.000150    0.000000     0.000000   0.000000   0.000000   \n",
       "2010-01-05   0.000146   -0.002199     0.001729   0.032752   0.017680   \n",
       "2010-01-06   0.000148    0.016165    -0.015906   0.030334  -0.010674   \n",
       "2010-01-07   0.000149    0.016219    -0.001849   0.040482   0.019568   \n",
       "2010-01-08   0.000148   -0.000715     0.006649  -0.009646  -0.018911   \n",
       "\n",
       "            INTC_RETURN  JNJ_RETURN  KO_RETURN  NKE_RETURN  PG_RETURN  \\\n",
       "2010-01-04     0.000000    0.000000   0.000000    0.000000   0.000000   \n",
       "2010-01-05    -0.000479   -0.011595  -0.012097    0.003979   0.000327   \n",
       "2010-01-06    -0.003354    0.008133  -0.000355   -0.006097  -0.004743   \n",
       "2010-01-07    -0.009615   -0.007137  -0.002485    0.009815  -0.005423   \n",
       "2010-01-08     0.011165    0.003439  -0.018509   -0.001975  -0.001322   \n",
       "\n",
       "            DIS_RETURN  \n",
       "2010-01-04    0.000000  \n",
       "2010-01-05   -0.002494  \n",
       "2010-01-06   -0.005314  \n",
       "2010-01-07    0.000314  \n",
       "2010-01-08    0.001571  "
      ]
     },
     "execution_count": 3,
     "metadata": {},
     "output_type": "execute_result"
    }
   ],
   "source": [
    "df = pd.read_csv('data/dow_10_returns.csv', index_col=0, parse_dates=True)\n",
    "df.head()"
   ]
  },
  {
   "cell_type": "code",
   "execution_count": 35,
   "metadata": {},
   "outputs": [
    {
     "data": {
      "text/plain": [
       "True"
      ]
     },
     "execution_count": 35,
     "metadata": {},
     "output_type": "execute_result"
    }
   ],
   "source": [
    "(mean_historical_return(df, returns_data=True) == (1+df).prod()**(252/len(df))-1).all()"
   ]
  },
  {
   "cell_type": "code",
   "execution_count": 34,
   "metadata": {},
   "outputs": [
    {
     "data": {
      "text/plain": [
       "True"
      ]
     },
     "execution_count": 34,
     "metadata": {},
     "output_type": "execute_result"
    }
   ],
   "source": [
    "(risk_matrix(df, returns_data=True) == df.cov() * 252).all().all()"
   ]
  },
  {
   "cell_type": "code",
   "execution_count": 36,
   "metadata": {},
   "outputs": [
    {
     "data": {
      "text/plain": [
       "RF_RETURN      0.022434\n",
       "AXP_RETURN     0.120328\n",
       "AAPL_RETURN    0.259231\n",
       "BA_RETURN      0.119914\n",
       "GS_RETURN      0.071035\n",
       "INTC_RETURN    0.050040\n",
       "JNJ_RETURN     0.112452\n",
       "KO_RETURN      0.097168\n",
       "NKE_RETURN     0.177721\n",
       "PG_RETURN      0.105029\n",
       "DIS_RETURN     0.091322\n",
       "dtype: float64"
      ]
     },
     "execution_count": 36,
     "metadata": {},
     "output_type": "execute_result"
    }
   ],
   "source": [
    "mean_historical_return(df, returns_data=True)"
   ]
  },
  {
   "cell_type": "code",
   "execution_count": 37,
   "metadata": {},
   "outputs": [
    {
     "data": {
      "text/html": [
       "<div>\n",
       "<style scoped>\n",
       "    .dataframe tbody tr th:only-of-type {\n",
       "        vertical-align: middle;\n",
       "    }\n",
       "\n",
       "    .dataframe tbody tr th {\n",
       "        vertical-align: top;\n",
       "    }\n",
       "\n",
       "    .dataframe thead th {\n",
       "        text-align: right;\n",
       "    }\n",
       "</style>\n",
       "<table border=\"1\" class=\"dataframe\">\n",
       "  <thead>\n",
       "    <tr style=\"text-align: right;\">\n",
       "      <th></th>\n",
       "      <th>RF_RETURN</th>\n",
       "      <th>AXP_RETURN</th>\n",
       "      <th>AAPL_RETURN</th>\n",
       "      <th>BA_RETURN</th>\n",
       "      <th>GS_RETURN</th>\n",
       "      <th>INTC_RETURN</th>\n",
       "      <th>JNJ_RETURN</th>\n",
       "      <th>KO_RETURN</th>\n",
       "      <th>NKE_RETURN</th>\n",
       "      <th>PG_RETURN</th>\n",
       "      <th>DIS_RETURN</th>\n",
       "    </tr>\n",
       "  </thead>\n",
       "  <tbody>\n",
       "    <tr>\n",
       "      <th>RF_RETURN</th>\n",
       "      <td>2.051085e-07</td>\n",
       "      <td>-5.272974e-08</td>\n",
       "      <td>-0.000003</td>\n",
       "      <td>0.000003</td>\n",
       "      <td>-0.000003</td>\n",
       "      <td>-1.623903e-07</td>\n",
       "      <td>-6.273217e-07</td>\n",
       "      <td>5.019786e-07</td>\n",
       "      <td>-1.803636e-07</td>\n",
       "      <td>-6.350466e-07</td>\n",
       "      <td>-0.000002</td>\n",
       "    </tr>\n",
       "    <tr>\n",
       "      <th>AXP_RETURN</th>\n",
       "      <td>-5.272974e-08</td>\n",
       "      <td>8.711068e-02</td>\n",
       "      <td>0.036198</td>\n",
       "      <td>0.065599</td>\n",
       "      <td>0.057482</td>\n",
       "      <td>4.084715e-02</td>\n",
       "      <td>2.138107e-02</td>\n",
       "      <td>2.564672e-02</td>\n",
       "      <td>3.989507e-02</td>\n",
       "      <td>1.903989e-02</td>\n",
       "      <td>0.046338</td>\n",
       "    </tr>\n",
       "    <tr>\n",
       "      <th>AAPL_RETURN</th>\n",
       "      <td>-2.537068e-06</td>\n",
       "      <td>3.619786e-02</td>\n",
       "      <td>0.082435</td>\n",
       "      <td>0.042091</td>\n",
       "      <td>0.036661</td>\n",
       "      <td>4.272481e-02</td>\n",
       "      <td>1.753517e-02</td>\n",
       "      <td>1.805513e-02</td>\n",
       "      <td>3.436696e-02</td>\n",
       "      <td>1.807647e-02</td>\n",
       "      <td>0.031800</td>\n",
       "    </tr>\n",
       "    <tr>\n",
       "      <th>BA_RETURN</th>\n",
       "      <td>3.235138e-06</td>\n",
       "      <td>6.559873e-02</td>\n",
       "      <td>0.042091</td>\n",
       "      <td>0.132893</td>\n",
       "      <td>0.057092</td>\n",
       "      <td>4.656117e-02</td>\n",
       "      <td>2.130542e-02</td>\n",
       "      <td>2.785277e-02</td>\n",
       "      <td>4.427496e-02</td>\n",
       "      <td>1.883985e-02</td>\n",
       "      <td>0.050319</td>\n",
       "    </tr>\n",
       "    <tr>\n",
       "      <th>GS_RETURN</th>\n",
       "      <td>-3.368548e-06</td>\n",
       "      <td>5.748161e-02</td>\n",
       "      <td>0.036661</td>\n",
       "      <td>0.057092</td>\n",
       "      <td>0.084854</td>\n",
       "      <td>4.127909e-02</td>\n",
       "      <td>2.030859e-02</td>\n",
       "      <td>2.103932e-02</td>\n",
       "      <td>3.612607e-02</td>\n",
       "      <td>1.780358e-02</td>\n",
       "      <td>0.042570</td>\n",
       "    </tr>\n",
       "    <tr>\n",
       "      <th>INTC_RETURN</th>\n",
       "      <td>-1.623903e-07</td>\n",
       "      <td>4.084715e-02</td>\n",
       "      <td>0.042725</td>\n",
       "      <td>0.046561</td>\n",
       "      <td>0.041279</td>\n",
       "      <td>8.718790e-02</td>\n",
       "      <td>1.947407e-02</td>\n",
       "      <td>2.050342e-02</td>\n",
       "      <td>3.325609e-02</td>\n",
       "      <td>1.927676e-02</td>\n",
       "      <td>0.034480</td>\n",
       "    </tr>\n",
       "    <tr>\n",
       "      <th>JNJ_RETURN</th>\n",
       "      <td>-6.273217e-07</td>\n",
       "      <td>2.138107e-02</td>\n",
       "      <td>0.017535</td>\n",
       "      <td>0.021305</td>\n",
       "      <td>0.020309</td>\n",
       "      <td>1.947407e-02</td>\n",
       "      <td>2.832477e-02</td>\n",
       "      <td>1.565509e-02</td>\n",
       "      <td>1.707098e-02</td>\n",
       "      <td>1.655813e-02</td>\n",
       "      <td>0.017134</td>\n",
       "    </tr>\n",
       "    <tr>\n",
       "      <th>KO_RETURN</th>\n",
       "      <td>5.019786e-07</td>\n",
       "      <td>2.564672e-02</td>\n",
       "      <td>0.018055</td>\n",
       "      <td>0.027853</td>\n",
       "      <td>0.021039</td>\n",
       "      <td>2.050342e-02</td>\n",
       "      <td>1.565509e-02</td>\n",
       "      <td>3.078284e-02</td>\n",
       "      <td>1.977992e-02</td>\n",
       "      <td>1.853701e-02</td>\n",
       "      <td>0.021364</td>\n",
       "    </tr>\n",
       "    <tr>\n",
       "      <th>NKE_RETURN</th>\n",
       "      <td>-1.803636e-07</td>\n",
       "      <td>3.989507e-02</td>\n",
       "      <td>0.034367</td>\n",
       "      <td>0.044275</td>\n",
       "      <td>0.036126</td>\n",
       "      <td>3.325609e-02</td>\n",
       "      <td>1.707098e-02</td>\n",
       "      <td>1.977992e-02</td>\n",
       "      <td>7.622078e-02</td>\n",
       "      <td>1.732589e-02</td>\n",
       "      <td>0.035130</td>\n",
       "    </tr>\n",
       "    <tr>\n",
       "      <th>PG_RETURN</th>\n",
       "      <td>-6.350466e-07</td>\n",
       "      <td>1.903989e-02</td>\n",
       "      <td>0.018076</td>\n",
       "      <td>0.018840</td>\n",
       "      <td>0.017804</td>\n",
       "      <td>1.927676e-02</td>\n",
       "      <td>1.655813e-02</td>\n",
       "      <td>1.853701e-02</td>\n",
       "      <td>1.732589e-02</td>\n",
       "      <td>3.026168e-02</td>\n",
       "      <td>0.017196</td>\n",
       "    </tr>\n",
       "    <tr>\n",
       "      <th>DIS_RETURN</th>\n",
       "      <td>-1.775902e-06</td>\n",
       "      <td>4.633764e-02</td>\n",
       "      <td>0.031800</td>\n",
       "      <td>0.050319</td>\n",
       "      <td>0.042570</td>\n",
       "      <td>3.448022e-02</td>\n",
       "      <td>1.713394e-02</td>\n",
       "      <td>2.136434e-02</td>\n",
       "      <td>3.513016e-02</td>\n",
       "      <td>1.719612e-02</td>\n",
       "      <td>0.067951</td>\n",
       "    </tr>\n",
       "  </tbody>\n",
       "</table>\n",
       "</div>"
      ],
      "text/plain": [
       "                RF_RETURN    AXP_RETURN  AAPL_RETURN  BA_RETURN  GS_RETURN  \\\n",
       "RF_RETURN    2.051085e-07 -5.272974e-08    -0.000003   0.000003  -0.000003   \n",
       "AXP_RETURN  -5.272974e-08  8.711068e-02     0.036198   0.065599   0.057482   \n",
       "AAPL_RETURN -2.537068e-06  3.619786e-02     0.082435   0.042091   0.036661   \n",
       "BA_RETURN    3.235138e-06  6.559873e-02     0.042091   0.132893   0.057092   \n",
       "GS_RETURN   -3.368548e-06  5.748161e-02     0.036661   0.057092   0.084854   \n",
       "INTC_RETURN -1.623903e-07  4.084715e-02     0.042725   0.046561   0.041279   \n",
       "JNJ_RETURN  -6.273217e-07  2.138107e-02     0.017535   0.021305   0.020309   \n",
       "KO_RETURN    5.019786e-07  2.564672e-02     0.018055   0.027853   0.021039   \n",
       "NKE_RETURN  -1.803636e-07  3.989507e-02     0.034367   0.044275   0.036126   \n",
       "PG_RETURN   -6.350466e-07  1.903989e-02     0.018076   0.018840   0.017804   \n",
       "DIS_RETURN  -1.775902e-06  4.633764e-02     0.031800   0.050319   0.042570   \n",
       "\n",
       "              INTC_RETURN    JNJ_RETURN     KO_RETURN    NKE_RETURN  \\\n",
       "RF_RETURN   -1.623903e-07 -6.273217e-07  5.019786e-07 -1.803636e-07   \n",
       "AXP_RETURN   4.084715e-02  2.138107e-02  2.564672e-02  3.989507e-02   \n",
       "AAPL_RETURN  4.272481e-02  1.753517e-02  1.805513e-02  3.436696e-02   \n",
       "BA_RETURN    4.656117e-02  2.130542e-02  2.785277e-02  4.427496e-02   \n",
       "GS_RETURN    4.127909e-02  2.030859e-02  2.103932e-02  3.612607e-02   \n",
       "INTC_RETURN  8.718790e-02  1.947407e-02  2.050342e-02  3.325609e-02   \n",
       "JNJ_RETURN   1.947407e-02  2.832477e-02  1.565509e-02  1.707098e-02   \n",
       "KO_RETURN    2.050342e-02  1.565509e-02  3.078284e-02  1.977992e-02   \n",
       "NKE_RETURN   3.325609e-02  1.707098e-02  1.977992e-02  7.622078e-02   \n",
       "PG_RETURN    1.927676e-02  1.655813e-02  1.853701e-02  1.732589e-02   \n",
       "DIS_RETURN   3.448022e-02  1.713394e-02  2.136434e-02  3.513016e-02   \n",
       "\n",
       "                PG_RETURN  DIS_RETURN  \n",
       "RF_RETURN   -6.350466e-07   -0.000002  \n",
       "AXP_RETURN   1.903989e-02    0.046338  \n",
       "AAPL_RETURN  1.807647e-02    0.031800  \n",
       "BA_RETURN    1.883985e-02    0.050319  \n",
       "GS_RETURN    1.780358e-02    0.042570  \n",
       "INTC_RETURN  1.927676e-02    0.034480  \n",
       "JNJ_RETURN   1.655813e-02    0.017134  \n",
       "KO_RETURN    1.853701e-02    0.021364  \n",
       "NKE_RETURN   1.732589e-02    0.035130  \n",
       "PG_RETURN    3.026168e-02    0.017196  \n",
       "DIS_RETURN   1.719612e-02    0.067951  "
      ]
     },
     "execution_count": 37,
     "metadata": {},
     "output_type": "execute_result"
    }
   ],
   "source": [
    "risk_matrix(df, returns_data=True)"
   ]
  },
  {
   "cell_type": "code",
   "execution_count": 111,
   "metadata": {},
   "outputs": [],
   "source": [
    "returns = df.AAPL_RETURN"
   ]
  },
  {
   "cell_type": "code",
   "execution_count": 112,
   "metadata": {},
   "outputs": [],
   "source": [
    "rf = 0.03"
   ]
  },
  {
   "cell_type": "code",
   "execution_count": 113,
   "metadata": {},
   "outputs": [
    {
     "name": "stdout",
     "output_type": "stream",
     "text": [
      "0.798395924815534\n"
     ]
    }
   ],
   "source": [
    "annual_return = (1+returns).prod() ** (252/len(returns)) - 1\n",
    "annual_risk = returns.std() * np.sqrt(252)\n",
    "sharpe_ratio = (annual_return - rf) / annual_risk\n",
    "print(sharpe_ratio)"
   ]
  },
  {
   "cell_type": "code",
   "execution_count": 114,
   "metadata": {},
   "outputs": [
    {
     "name": "stdout",
     "output_type": "stream",
     "text": [
      "1.1119993906967374\n"
     ]
    }
   ],
   "source": [
    "annual_return = (1+returns).prod() ** (252/len(returns)) - 1\n",
    "annual_risk_neg = returns[returns<0].std() * np.sqrt(252)\n",
    "sortino_ratio = (annual_return - rf) / annual_risk_neg\n",
    "print(sortino_ratio)"
   ]
  },
  {
   "attachments": {},
   "cell_type": "markdown",
   "metadata": {},
   "source": [
    "Max drawdown quantifies the steepest decline from peak to trough observed for an investment. This is useful for a number of reasons, mainly the fact that it doesn't rely on the underlying returns being normally distributed. It also gives us an indication of conditionality amongst the returns increments. Whereas in the previous ratios, we only considered the overall reward relative to risk, however, it may be that consecutive returns are not independent leading to unacceptably high losses of a given period of time."
   ]
  },
  {
   "cell_type": "code",
   "execution_count": 115,
   "metadata": {},
   "outputs": [
    {
     "name": "stdout",
     "output_type": "stream",
     "text": [
      "0.5918897021285686\n"
     ]
    },
    {
     "data": {
      "image/png": "[encoded data removed]",
      "text/plain": [
       "<Figure size 1200x400 with 2 Axes>"
      ]
     },
     "metadata": {},
     "output_type": "display_data"
    }
   ],
   "source": [
    "cumilative_returns = (returns+1).cumprod()\n",
    "cumilative_returns_peak = cumilative_returns.expanding(min_periods=1).max()\n",
    "drawdown = (cumilative_returns / cumilative_returns_peak) - 1\n",
    "\n",
    "fig, axes = plt.subplots(1, 2, figsize=(12, 4))\n",
    "cumilative_returns.plot(ax=axes[0], title='Cumilative Returns');\n",
    "cumilative_returns_peak.plot(ax=axes[0]);\n",
    "drawdown.plot(ax=axes[1], title='Drawdown');\n",
    "\n",
    "max_drawdown = drawdown.min() # most negative drawdown\n",
    "annual_return = (1+returns).prod() ** (252/len(returns)) - 1\n",
    "calmar_ratio = annual_return / abs(max_drawdown)\n",
    "print(calmar_ratio)"
   ]
  },
  {
   "cell_type": "code",
   "execution_count": null,
   "metadata": {},
   "outputs": [],
   "source": []
  }
 ],
 "metadata": {
  "kernelspec": {
   "display_name": "rl_env",
   "language": "python",
   "name": "python3"
  },
  "language_info": {
   "codemirror_mode": {
    "name": "ipython",
    "version": 3
   },
   "file_extension": ".py",
   "mimetype": "text/x-python",
   "name": "python",
   "nbconvert_exporter": "python",
   "pygments_lexer": "ipython3",
   "version": "3.9.13"
  },
  "orig_nbformat": 4
 },
 "nbformat": 4,
 "nbformat_minor": 2
}
